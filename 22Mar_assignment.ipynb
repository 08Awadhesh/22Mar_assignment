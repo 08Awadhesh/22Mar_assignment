{
 "cells": [
  {
   "cell_type": "markdown",
   "id": "3aab29e5-ecc0-41d2-959f-85da93f455c6",
   "metadata": {},
   "source": [
    "**Q1**. Pearson correlation coefficient is a measure of the linear relationship between two variables. Suppose\n",
    "you have collected data on the amount of time students spend studying for an exam and their final exam\n",
    "scores. Calculate the Pearson correlation coefficient between these two variables and interpret the result.\n",
    "\n",
    "**Answer**:"
   ]
  },
  {
   "cell_type": "code",
   "execution_count": 3,
   "id": "466d57dd-035a-4a82-b10f-b6179091d33f",
   "metadata": {},
   "outputs": [
    {
     "name": "stdout",
     "output_type": "stream",
     "text": [
      "Pearson Correlation Coefficient: 0.8986641371378514\n"
     ]
    }
   ],
   "source": [
    "study_time=[8,10,11,9,6]\n",
    "scores=[80,90,95,70,60]\n",
    "import numpy as np\n",
    "study=np.array(study_time)\n",
    "marks=np.array(scores)\n",
    "correlation_coeff=np.corrcoef(study,marks)[0,1]\n",
    "\n",
    "print(\"Pearson Correlation Coefficient:\",correlation_coeff)\n"
   ]
  },
  {
   "cell_type": "markdown",
   "id": "db51bd04-54a0-43ce-b964-f63fdaf26baa",
   "metadata": {},
   "source": [
    "**conclusion**: The calculated Pearson correlation coefficient is approximately 0.866, indicating a strong positive linear relationship between study time and exam scores. This means that as study time increases, exam scores tend to increase as well."
   ]
  },
  {
   "cell_type": "markdown",
   "id": "571a803e-7cb2-4e56-a4e4-80ea5ce7ef55",
   "metadata": {},
   "source": [
    "**Q2**. Spearman's rank correlation is a measure of the monotonic relationship between two variables.\n",
    "Suppose you have collected data on the amount of sleep individuals get each night and their overall job\n",
    "satisfaction level on a scale of 1 to 10. Calculate the Spearman's rank correlation between these two\n",
    "variables and interpret the result.  \n",
    "**Answer**:\n"
   ]
  },
  {
   "cell_type": "code",
   "execution_count": 4,
   "id": "0c69b7b5-dbf3-4427-a777-d48e92c49fd4",
   "metadata": {},
   "outputs": [
    {
     "name": "stdout",
     "output_type": "stream",
     "text": [
      "Spearman's rank correlation: SpearmanrResult(correlation=0.40583972495671394, pvalue=0.42466250756136453)\n"
     ]
    }
   ],
   "source": [
    "sleep_hour=[5,6,7,8,9,10]\n",
    "job_satisfaction=[5,6,6,8,4,10]\n",
    "import scipy.stats as stat\n",
    "correlation_coefficient=stat.spearmanr(sleep_hour,job_satisfaction)\n",
    "print(\"Spearman's rank correlation:\",correlation_coefficient)"
   ]
  },
  {
   "cell_type": "markdown",
   "id": "39b895c8-87c6-4ca0-a171-8ff01bd1ae44",
   "metadata": {},
   "source": [
    "**insights**: The magnitude of 0.4 indicates a moderate strength of the monotonic relationship. It is not as strong as values closer to 1, but it is still significant enough to suggest a discernible monotonic trend.The positive sign of the coefficient indicates a positive monotonic relationship. This means that as one variable increases, the other tends to increase as well, albeit not strongly.\n"
   ]
  },
  {
   "cell_type": "markdown",
   "id": "27ee16e8-c1b3-4fff-9f1f-a6118508adf0",
   "metadata": {},
   "source": [
    "**Q3.** Suppose you are conducting a study to examine the relationship between the number of hours of\n",
    "exercise per week and body mass index (BMI) in a sample of adults. You collected data on both variables\n",
    "for 50 participants. Calculate the Pearson correlation coefficient and the Spearman's rank correlation\n",
    "between these two variables and compare the results."
   ]
  },
  {
   "cell_type": "code",
   "execution_count": 23,
   "id": "058c60d6-d64d-4845-a00f-a460986fb46f",
   "metadata": {},
   "outputs": [],
   "source": [
    "import numpy as np\n",
    "import scipy.stats as stat\n",
    "exercise_hours = [5, 7, 3, 6, 4,2,5,4,5,8,2,6,2,1,2,3,4,5,6,7,1,4,4,4,1,3,1,2,4,3,4,1,3,2,3,2,6,\n",
    "                  1,2,3,1,3,1,3,1,3,1.6,1,6,1]  \n",
    "bmi = [22.1, 24.5, 26.8, 23.4, 21.9,20,20,30,20,21,22.5,22.9,22.6,25,25.6,23.6,26,15,26,27.6,27.8,27.9,25.3,24.5,25.3,15.5,16.5,18.2,22.1, 24.5, 26.8, 23.4, 21.9,20,20,30,20,23.6,26,15,26,27.6,27.8,27.9,25.3,24.5,25.3,15.5,16.5,18.2]"
   ]
  },
  {
   "cell_type": "code",
   "execution_count": 24,
   "id": "539676af-f36f-4677-848e-7bc8988caa80",
   "metadata": {},
   "outputs": [
    {
     "data": {
      "text/plain": [
       "50"
      ]
     },
     "execution_count": 24,
     "metadata": {},
     "output_type": "execute_result"
    }
   ],
   "source": [
    "len(exercise_hours)"
   ]
  },
  {
   "cell_type": "code",
   "execution_count": 25,
   "id": "c2f550e1-e475-4b25-a3ec-f19d8e980ea3",
   "metadata": {},
   "outputs": [
    {
     "data": {
      "text/plain": [
       "50"
      ]
     },
     "execution_count": 25,
     "metadata": {},
     "output_type": "execute_result"
    }
   ],
   "source": [
    "len(bmi)"
   ]
  },
  {
   "cell_type": "code",
   "execution_count": 27,
   "id": "5c889f30-eaa4-4376-8465-2115bb851f33",
   "metadata": {},
   "outputs": [
    {
     "name": "stdout",
     "output_type": "stream",
     "text": [
      "Pearson Correlation Coefficient: -0.058873529246069714\n",
      "p-value (Pearson): 0.6846530177398711\n",
      "Spearman's Rank Correlation Coefficient: -0.08015151622720025\n",
      "p-value (Spearman): 0.5800488325461053\n"
     ]
    }
   ],
   "source": [
    "pearson_coefficient, p_value_pearson = stat.pearsonr(exercise_hours, bmi)\n",
    "spearman_coefficient, p_value_spearman = stat.spearmanr(exercise_hours, bmi)\n",
    "\n",
    "print(\"Pearson Correlation Coefficient:\", pearson_coefficient)\n",
    "print(\"p-value (Pearson):\", p_value_pearson)\n",
    "print(\"Spearman's Rank Correlation Coefficient:\", spearman_coefficient)\n",
    "print(\"p-value (Spearman):\", p_value_spearman)"
   ]
  },
  {
   "cell_type": "markdown",
   "id": "7cbc4b68-ebe0-4e1c-89e8-924ba9a35d81",
   "metadata": {},
   "source": [
    "**insight**:  Both Person corrleation coefficient and spearman's correlation coefficent is cloes to zero so its indicates a weak or no monotonic relationship in exercise hour and bmi ."
   ]
  },
  {
   "cell_type": "markdown",
   "id": "4d157f27-8684-42ba-9b4c-ea3fa2507c31",
   "metadata": {},
   "source": [
    "**Q4**. A researcher is interested in examining the relationship between the number of hours individuals\n",
    "spend watching television per day and their level of physical activity. The researcher collected data on\n",
    "both variables from a sample of 50 participants. Calculate the Pearson correlation coefficient between\n",
    "these two variables.\n",
    "\n",
    "**Answer**:"
   ]
  },
  {
   "cell_type": "code",
   "execution_count": 42,
   "id": "2ff86c02-06f0-46f8-8d17-3be048d90785",
   "metadata": {},
   "outputs": [
    {
     "name": "stdout",
     "output_type": "stream",
     "text": [
      "Hours of TV per Day: [3.0, 1.5, 4.5, 2.0, 3.5, 2.5, 1.0, 3.0, 2.0, 1.5, 4.0, 2.5, 3.0, 2.5, 1.5, 3.5, 2.0, 4.5, 2.0, 1.0, 3.0, 2.5, 1.5, 4.0, 2.5, 3.0, 2.5, 1.5, 3.5, 2.0, 4.5, 2.0, 1.0, 3.0, 2.5, 1.5, 4.0, 2.5, 3.0, 2.5, 1.5, 3.5, 2.0, 4.5, 2.0, 1.0, 3.0, 2.5, 1.5, 4.0]\n",
      "Level of Physical Activity (Numeric): [1, 2, 1, 3, 2, 3, 1, 1, 2, 2, 1, 3, 1, 2, 1, 1, 3, 2, 3, 1, 1, 2, 1, 1, 3, 2, 3, 1, 1, 3, 2, 3, 1, 1, 2, 1, 3, 1, 1, 3, 2, 3, 1, 1, 3, 2, 3, 1, 1, 3]\n"
     ]
    }
   ],
   "source": [
    "\n",
    "hours_of_tv = [3.0, 1.5, 4.5, 2.0, 3.5, 2.5, 1.0, 3.0, 2.0, 1.5, 4.0, 2.5, 3.0, 2.5, 1.5, 3.5, 2.0, 4.5, 2.0, 1.0, 3.0, 2.5, 1.5, 4.0, 2.5, 3.0, 2.5, 1.5, 3.5, 2.0, 4.5, 2.0, 1.0, 3.0, 2.5, 1.5, 4.0, 2.5, 3.0, 2.5, 1.5, 3.5, 2.0, 4.5, 2.0, 1.0, 3.0, 2.5, 1.5, 4.0]\n",
    "physical_activity = ['Low', 'Moderate', 'Low', 'High', 'Moderate', 'High', 'Low', 'Low', 'Moderate', 'Moderate', 'Low', 'High', 'Low', 'Moderate', 'Low', 'Low', 'High', 'Moderate', 'High', 'Low', 'Low', 'Moderate', 'Low', 'Low', 'High', 'Moderate', 'High', 'Low', 'Low', 'High', 'Moderate', 'High', 'Low', 'Low', 'Moderate', 'Low', 'High', 'Low', 'Low', 'High', 'Moderate', 'High', 'Low', 'Low', 'High', 'Moderate', 'High', 'Low', 'Low', 'High']\n",
    "activity_numeric = []\n",
    "for activity in physical_activity:\n",
    "    if activity == 'Low':\n",
    "        activity_numeric.append(1)\n",
    "    elif activity == 'Moderate':\n",
    "        activity_numeric.append(2)\n",
    "    elif activity == 'High':\n",
    "        activity_numeric.append(3)\n",
    "print(\"Hours of TV per Day:\", hours_of_tv)\n",
    "print(\"Level of Physical Activity (Numeric):\", activity_numeric)\n"
   ]
  },
  {
   "cell_type": "code",
   "execution_count": 43,
   "id": "33d3f488-6c14-424c-907a-b936a1b54cea",
   "metadata": {},
   "outputs": [
    {
     "data": {
      "text/plain": [
       "50"
      ]
     },
     "execution_count": 43,
     "metadata": {},
     "output_type": "execute_result"
    }
   ],
   "source": [
    "len(hours_of_tv)"
   ]
  },
  {
   "cell_type": "code",
   "execution_count": 44,
   "id": "e27a8423-f732-478c-a488-f7f669b09cc1",
   "metadata": {},
   "outputs": [
    {
     "data": {
      "text/plain": [
       "50"
      ]
     },
     "execution_count": 44,
     "metadata": {},
     "output_type": "execute_result"
    }
   ],
   "source": [
    "len(activity_numeric)"
   ]
  },
  {
   "cell_type": "code",
   "execution_count": 45,
   "id": "33b79f18-f253-44c7-b8f0-58a21be6f7a4",
   "metadata": {},
   "outputs": [
    {
     "name": "stdout",
     "output_type": "stream",
     "text": [
      "0.0032778260758974317 0.9819760893175241\n"
     ]
    }
   ],
   "source": [
    "pearson_coefficient, p_value_pearson = stat.pearsonr(hours_of_tv,activity_numeric)\n",
    "print(pearson_coefficient, p_value_pearson )"
   ]
  },
  {
   "cell_type": "markdown",
   "id": "f8caf851-af2e-4837-a113-8a43167f7880",
   "metadata": {},
   "source": [
    "**Insights**:Person corrleation coefficient  is cloes to zero so its indicates a weak or no monotonic relationship in watching telivieon and physical activity."
   ]
  },
  {
   "cell_type": "markdown",
   "id": "f1bf3405-4ed4-412d-86d1-deead3bd34c0",
   "metadata": {},
   "source": [
    "**Q5**. A survey was conducted to examine the relationship between age and preference for a particular\n",
    "brand of soft drink. The survey results are shown below:\n",
    "**Answer**:According to the goven data we can get following insights:\n",
    "\n",
    "(I) Most people which age lies between 19 to 30 like coke\n",
    "\n",
    "(II) Most people which age lies between 31 to 42 like pepsi and some peolple like  Mountain dew.\n",
    "\n",
    "(III) From overall data most people like coke ."
   ]
  },
  {
   "cell_type": "markdown",
   "id": "ee20f82b-3fb8-4dce-8575-e29f80928488",
   "metadata": {},
   "source": [
    "**Q6.** A company is interested in examining the relationship between the number of sales calls made per day\n",
    "and the number of sales made per week. The company collected data on both variables from a sample of\n",
    "30 sales representatives. Calculate the Pearson correlation coefficient between these two variables.\n",
    "\n",
    "**Answer**:"
   ]
  },
  {
   "cell_type": "code",
   "execution_count": 47,
   "id": "78d6ed04-01ad-41da-8f04-13af50db4add",
   "metadata": {},
   "outputs": [],
   "source": [
    "# Example data\n",
    "sales_calls_per_day = [25, 30, 20, 35, 28, 32, 22, 26, 30, 29, 18, 24, 27, 31, 23, 29, 33, 21, 26, 30, 28, 19, 25, 32, 27, 31, 24, 26, 29, 34]\n",
    "sales_per_week = [8, 12, 6, 10, 11, 14, 7, 9, 11, 10, 5, 8, 9, 12, 6, 11, 13, 6, 9, 10, 11, 5, 8, 13, 9, 12, 8, 9, 10, 13]\n",
    "\n"
   ]
  },
  {
   "cell_type": "code",
   "execution_count": 49,
   "id": "0eeecced-1c1d-4f81-918e-363b793bac70",
   "metadata": {},
   "outputs": [
    {
     "data": {
      "text/plain": [
       "30"
      ]
     },
     "execution_count": 49,
     "metadata": {},
     "output_type": "execute_result"
    }
   ],
   "source": [
    "len(sales_calls_per_day)\n"
   ]
  },
  {
   "cell_type": "code",
   "execution_count": 50,
   "id": "d8a25250-3751-4e72-9dd1-2067aedff6b7",
   "metadata": {},
   "outputs": [
    {
     "data": {
      "text/plain": [
       "30"
      ]
     },
     "execution_count": 50,
     "metadata": {},
     "output_type": "execute_result"
    }
   ],
   "source": [
    "len(sales_per_week)"
   ]
  },
  {
   "cell_type": "code",
   "execution_count": 57,
   "id": "b3f45bac-f4be-4795-b0e6-045b49d40c7b",
   "metadata": {},
   "outputs": [
    {
     "name": "stdout",
     "output_type": "stream",
     "text": [
      "Pearson's corrleation coefficeint: 0.9241958902398277\n",
      "Pearsons's p-value: 3.172987053247165e-13\n"
     ]
    }
   ],
   "source": [
    "import scipy.stats as stat\n",
    "corrleation_coeffcient,p_value=stat.pearsonr(sales_calls_per_day,sales_per_week)\n",
    "print(\"Pearson's corrleation coefficeint:\",corrleation_coeffcient)\n",
    "print(\"Pearsons's p-value:\",p_value)"
   ]
  },
  {
   "cell_type": "markdown",
   "id": "48aba661-bb09-4115-ba7f-5b40f5035d16",
   "metadata": {},
   "source": [
    "**Insight:**:As Pearson's correlation coefficeint is cloes to 1 so there is strong relation between the sales calls per day and the sales per week so as number of calls per day incerease the sales per week increase . "
   ]
  },
  {
   "cell_type": "code",
   "execution_count": null,
   "id": "37e9eb0f-aa84-4af7-9083-bff10c33c9df",
   "metadata": {},
   "outputs": [],
   "source": []
  }
 ],
 "metadata": {
  "kernelspec": {
   "display_name": "Python 3 (ipykernel)",
   "language": "python",
   "name": "python3"
  },
  "language_info": {
   "codemirror_mode": {
    "name": "ipython",
    "version": 3
   },
   "file_extension": ".py",
   "mimetype": "text/x-python",
   "name": "python",
   "nbconvert_exporter": "python",
   "pygments_lexer": "ipython3",
   "version": "3.10.8"
  }
 },
 "nbformat": 4,
 "nbformat_minor": 5
}
